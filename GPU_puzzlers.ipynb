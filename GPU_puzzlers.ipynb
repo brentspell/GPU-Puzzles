{
 "cells": [
  {
   "cell_type": "markdown",
   "id": "5177d1ed",
   "metadata": {
    "lines_to_next_cell": 2
   },
   "source": [
    "# GPU Puzzles\n",
    "- by [Sasha Rush](http://rush-nlp.com) - [srush_nlp](https://twitter.com/srush_nlp)"
   ]
  },
  {
   "cell_type": "markdown",
   "id": "349e7477",
   "metadata": {},
   "source": [
    "![](https://github.com/srush/GPU-Puzzles/raw/main/cuda.png)"
   ]
  },
  {
   "cell_type": "markdown",
   "id": "b2072a8e",
   "metadata": {},
   "source": [
    "GPU architectures are critical to machine learning, and seem to be\n",
    "becoming even more important every day. However you can be an expert\n",
    "in machine learning without ever touching GPU code. It is a bit\n",
    "weird to be work always through abstraction. "
   ]
  },
  {
   "cell_type": "markdown",
   "id": "28f250dd",
   "metadata": {},
   "source": [
    "This notebook is an attempt teach beginner GPU programming in a\n",
    "completely interactive fashion. Instead of providing text with\n",
    "concepts, it throws you right into coding and building GPU\n",
    "kernels. The exercises use NUMBA which directly maps Python\n",
    "code to CUDA kernels. It looks like Python but is basically\n",
    "identical to writing low-level CUDA code. \n",
    "In a few hours, I think you can go from basics to\n",
    "understanding the real algorithms that power 99% of deep learning\n",
    "today. If you do want to read the manual, it is here:"
   ]
  },
  {
   "cell_type": "markdown",
   "id": "1a49f1a3",
   "metadata": {},
   "source": [
    "[NUMBA CUDA Guide](https://numba.readthedocs.io/en/stable/cuda/index.html)"
   ]
  },
  {
   "cell_type": "markdown",
   "id": "0e535d14",
   "metadata": {},
   "source": [
    "I recommend doing these in Colab, as it is easy to get started.  Be\n",
    "sure to make your own copy, turn on GPU mode in the settings (`Runtime / Change runtime type`, then set `Hardware accelerator` to `GPU`), and\n",
    "then get to coding."
   ]
  },
  {
   "cell_type": "markdown",
   "id": "e9cdd69b",
   "metadata": {},
   "source": [
    "[![Open In Colab](https://colab.research.google.com/assets/colab-badge.svg)](https://colab.research.google.com/github/srush/GPU-Puzzles/blob/main/GPU_puzzlers.ipynb)"
   ]
  },
  {
   "cell_type": "markdown",
   "id": "efff04c5",
   "metadata": {},
   "source": [
    "(If you are into this style of puzzle, also check out my [Tensor\n",
    "Puzzles](https://github.com/srush/Tensor-Puzzles) for PyTorch.)"
   ]
  },
  {
   "cell_type": "code",
   "execution_count": 1,
   "id": "d3c3fffe",
   "metadata": {
    "ExecuteTime": {
     "end_time": "2022-07-15T21:45:25.697205Z",
     "start_time": "2022-07-15T21:45:18.538575Z"
    },
    "execution": {
     "iopub.execute_input": "2022-07-14T22:48:13.704268Z",
     "iopub.status.busy": "2022-07-14T22:48:13.703771Z",
     "iopub.status.idle": "2022-07-14T22:48:25.512512Z",
     "shell.execute_reply": "2022-07-14T22:48:25.511429Z"
    },
    "lines_to_next_cell": 2
   },
   "outputs": [],
   "source": [
    "!pip install -qqq git+https://github.com/danoneata/chalk@srush-patch-1\n",
    "!wget -q https://github.com/srush/GPU-Puzzles/raw/main/robot.png https://github.com/srush/GPU-Puzzles/raw/main/lib.py"
   ]
  },
  {
   "cell_type": "code",
   "execution_count": 2,
   "id": "8dec03c5",
   "metadata": {
    "ExecuteTime": {
     "end_time": "2022-07-15T21:46:32.830869Z",
     "start_time": "2022-07-15T21:46:32.518885Z"
    },
    "execution": {
     "iopub.execute_input": "2022-07-14T22:48:25.517046Z",
     "iopub.status.busy": "2022-07-14T22:48:25.516590Z",
     "iopub.status.idle": "2022-07-14T22:48:25.979774Z",
     "shell.execute_reply": "2022-07-14T22:48:25.978888Z"
    }
   },
   "outputs": [],
   "source": [
    "import numba\n",
    "import numpy as np\n",
    "import warnings\n",
    "from lib import CudaProblem, Coord"
   ]
  },
  {
   "cell_type": "code",
   "execution_count": 3,
   "id": "fd7652f0",
   "metadata": {
    "ExecuteTime": {
     "end_time": "2022-07-15T21:46:32.835616Z",
     "start_time": "2022-07-15T21:46:32.832739Z"
    },
    "execution": {
     "iopub.execute_input": "2022-07-14T22:48:25.984115Z",
     "iopub.status.busy": "2022-07-14T22:48:25.983540Z",
     "iopub.status.idle": "2022-07-14T22:48:25.988400Z",
     "shell.execute_reply": "2022-07-14T22:48:25.987620Z"
    },
    "lines_to_next_cell": 2
   },
   "outputs": [],
   "source": [
    "warnings.filterwarnings(\n",
    "    action=\"ignore\", category=numba.NumbaPerformanceWarning, module=\"numba\"\n",
    ")"
   ]
  },
  {
   "cell_type": "markdown",
   "id": "990f3617",
   "metadata": {
    "lines_to_next_cell": 2
   },
   "source": [
    "## Puzzle 1: Map\n",
    "\n",
    "Implement a \"kernel\" (GPU function) that adds 10 to each position of vector `a`\n",
    "and stores it in vector `out`.  You have 1 thread per position."
   ]
  },
  {
   "cell_type": "markdown",
   "id": "b4406e24",
   "metadata": {
    "lines_to_next_cell": 2
   },
   "source": [
    "**Warning** This code looks like Python but it is really CUDA! You cannot use\n",
    "standard python tools like list comprehensions or ask for Numpy properties\n",
    "like shape or size (if you need the size, it is given as an argument).\n",
    "The puzzles only require doing simple operations, basically\n",
    "+, *, simple array indexing, for loops, and if statements. If you get an\n",
    "error it is probably because you did something fancy :). "
   ]
  },
  {
   "cell_type": "markdown",
   "id": "4e03ea0b",
   "metadata": {},
   "source": [
    "*Tip: Think of the function `call` as being run 1 time for each thread.\n",
    "The only difference is that `cuda.threadIdx.x` changes each time.*"
   ]
  },
  {
   "cell_type": "code",
   "execution_count": 4,
   "id": "27e8cd19",
   "metadata": {
    "ExecuteTime": {
     "end_time": "2022-07-15T21:45:26.016730Z",
     "start_time": "2022-07-15T21:45:26.011951Z"
    },
    "execution": {
     "iopub.execute_input": "2022-07-14T22:48:25.992607Z",
     "iopub.status.busy": "2022-07-14T22:48:25.992181Z",
     "iopub.status.idle": "2022-07-14T22:48:26.061727Z",
     "shell.execute_reply": "2022-07-14T22:48:26.060960Z"
    }
   },
   "outputs": [],
   "source": [
    "def map_spec(a):\n",
    "    return a + 10\n",
    "\n",
    "\n",
    "def map_test(cuda):\n",
    "    def call(out, a) -> None:\n",
    "        local_i = cuda.threadIdx.x\n",
    "        out[local_i] = a[local_i] + 10\n",
    "\n",
    "    return call\n",
    "\n",
    "\n",
    "SIZE = 4\n",
    "out = np.zeros((SIZE,))\n",
    "a = np.arange(SIZE)\n",
    "problem = CudaProblem(\n",
    "    \"Map\", map_test, [a], out, threadsperblock=Coord(SIZE, 1), spec=map_spec\n",
    ")\n",
    "#problem.show()"
   ]
  },
  {
   "cell_type": "code",
   "execution_count": 5,
   "id": "f8c80cf8",
   "metadata": {
    "ExecuteTime": {
     "end_time": "2022-07-15T21:45:26.427470Z",
     "start_time": "2022-07-15T21:45:26.019125Z"
    },
    "execution": {
     "iopub.execute_input": "2022-07-14T22:48:26.066250Z",
     "iopub.status.busy": "2022-07-14T22:48:26.065808Z",
     "iopub.status.idle": "2022-07-14T22:48:26.626354Z",
     "shell.execute_reply": "2022-07-14T22:48:26.625545Z"
    },
    "lines_to_end_of_cell_marker": 0,
    "lines_to_next_cell": 1
   },
   "outputs": [
    {
     "name": "stdout",
     "output_type": "stream",
     "text": [
      "Passed Tests!\n"
     ]
    }
   ],
   "source": [
    "problem.check() and None"
   ]
  },
  {
   "cell_type": "markdown",
   "id": "fc2eac07",
   "metadata": {},
   "source": [
    "## Puzzle 2 - Zip\n",
    "\n",
    "Implement a kernel that adds together each position of `a` and `b` and stores it in `out`.\n",
    "You have 1 thread per position."
   ]
  },
  {
   "cell_type": "code",
   "execution_count": 6,
   "id": "565a92fa",
   "metadata": {
    "ExecuteTime": {
     "end_time": "2022-07-15T21:45:26.433247Z",
     "start_time": "2022-07-15T21:45:26.428804Z"
    },
    "execution": {
     "iopub.execute_input": "2022-07-14T22:48:26.630363Z",
     "iopub.status.busy": "2022-07-14T22:48:26.629928Z",
     "iopub.status.idle": "2022-07-14T22:48:26.707756Z",
     "shell.execute_reply": "2022-07-14T22:48:26.706875Z"
    },
    "lines_to_next_cell": 0
   },
   "outputs": [],
   "source": [
    "def zip_spec(a, b):\n",
    "    return a + b\n",
    "\n",
    "\n",
    "def zip_test(cuda):\n",
    "    def call(out, a, b) -> None:\n",
    "        local_i = cuda.threadIdx.x\n",
    "        out[local_i] = a[local_i] + b[local_i]\n",
    "\n",
    "    return call\n",
    "\n",
    "\n",
    "SIZE = 4\n",
    "out = np.zeros((SIZE,))\n",
    "a = np.arange(SIZE)\n",
    "b = np.arange(SIZE)\n",
    "problem = CudaProblem(\n",
    "    \"Zip\", zip_test, [a, b], out, threadsperblock=Coord(SIZE, 1), spec=zip_spec\n",
    ")\n",
    "#problem.show()"
   ]
  },
  {
   "cell_type": "code",
   "execution_count": null,
   "id": "509d304f",
   "metadata": {},
   "outputs": [],
   "source": []
  },
  {
   "cell_type": "code",
   "execution_count": 7,
   "id": "95da8405",
   "metadata": {
    "ExecuteTime": {
     "end_time": "2022-07-15T21:45:26.474291Z",
     "start_time": "2022-07-15T21:45:26.434731Z"
    },
    "execution": {
     "iopub.execute_input": "2022-07-14T22:48:26.712013Z",
     "iopub.status.busy": "2022-07-14T22:48:26.711542Z",
     "iopub.status.idle": "2022-07-14T22:48:26.750762Z",
     "shell.execute_reply": "2022-07-14T22:48:26.749950Z"
    },
    "lines_to_end_of_cell_marker": 0,
    "lines_to_next_cell": 1
   },
   "outputs": [
    {
     "name": "stdout",
     "output_type": "stream",
     "text": [
      "Passed Tests!\n"
     ]
    }
   ],
   "source": [
    "problem.check() and None"
   ]
  },
  {
   "cell_type": "markdown",
   "id": "d9187f70",
   "metadata": {},
   "source": [
    "## Puzzle 3 - Guards\n",
    "\n",
    "Implement a kernel that adds 10 to each position of `a` and stores it in `out`.\n",
    "You have more threads than positions."
   ]
  },
  {
   "cell_type": "code",
   "execution_count": 8,
   "id": "c390eef7",
   "metadata": {
    "ExecuteTime": {
     "end_time": "2022-07-15T21:45:26.481418Z",
     "start_time": "2022-07-15T21:45:26.476307Z"
    },
    "execution": {
     "iopub.execute_input": "2022-07-14T22:48:26.754960Z",
     "iopub.status.busy": "2022-07-14T22:48:26.754535Z",
     "iopub.status.idle": "2022-07-14T22:48:26.826499Z",
     "shell.execute_reply": "2022-07-14T22:48:26.825749Z"
    }
   },
   "outputs": [],
   "source": [
    "def map_guard_test(cuda):\n",
    "    def call(out, a, size) -> None:\n",
    "        local_i = cuda.threadIdx.x\n",
    "        if local_i < size:\n",
    "            out[local_i] = a[local_i] + 10\n",
    "        # FILL ME IN (roughly 2 lines)\n",
    "\n",
    "    return call\n",
    "\n",
    "\n",
    "SIZE = 4\n",
    "out = np.zeros((SIZE,))\n",
    "a = np.arange(SIZE)\n",
    "problem = CudaProblem(\n",
    "    \"Guard\",\n",
    "    map_guard_test,\n",
    "    [a],\n",
    "    out,\n",
    "    [SIZE],\n",
    "    threadsperblock=Coord(8, 1),\n",
    "    spec=map_spec,\n",
    ")\n",
    "#problem.show()"
   ]
  },
  {
   "cell_type": "code",
   "execution_count": 9,
   "id": "05b8761f",
   "metadata": {
    "ExecuteTime": {
     "end_time": "2022-07-15T21:45:26.516142Z",
     "start_time": "2022-07-15T21:45:26.482930Z"
    },
    "execution": {
     "iopub.execute_input": "2022-07-14T22:48:26.830395Z",
     "iopub.status.busy": "2022-07-14T22:48:26.829956Z",
     "iopub.status.idle": "2022-07-14T22:48:26.860457Z",
     "shell.execute_reply": "2022-07-14T22:48:26.859570Z"
    },
    "lines_to_end_of_cell_marker": 0,
    "lines_to_next_cell": 1
   },
   "outputs": [
    {
     "name": "stdout",
     "output_type": "stream",
     "text": [
      "Passed Tests!\n"
     ]
    }
   ],
   "source": [
    "problem.check() and None"
   ]
  },
  {
   "cell_type": "markdown",
   "id": "b98ec557",
   "metadata": {},
   "source": [
    "## Puzzle 4 - Map 2D\n",
    "\n",
    "Implement a kernel that adds 10 to each position of `a` and stores it in `out`.\n",
    "Input `a` is 2D and square. You have more threads than positions."
   ]
  },
  {
   "cell_type": "code",
   "execution_count": 10,
   "id": "518e5744",
   "metadata": {
    "ExecuteTime": {
     "end_time": "2022-07-15T21:45:26.522978Z",
     "start_time": "2022-07-15T21:45:26.518142Z"
    },
    "execution": {
     "iopub.execute_input": "2022-07-14T22:48:26.864662Z",
     "iopub.status.busy": "2022-07-14T22:48:26.864230Z",
     "iopub.status.idle": "2022-07-14T22:48:26.939062Z",
     "shell.execute_reply": "2022-07-14T22:48:26.938277Z"
    }
   },
   "outputs": [],
   "source": [
    "def map_2D_test(cuda):\n",
    "    def call(out, a, size) -> None:\n",
    "        local_i = cuda.threadIdx.x\n",
    "        local_j = cuda.threadIdx.y\n",
    "        if local_i < size and local_j < size:\n",
    "            out[local_i, local_j] = a[local_i, local_j] + 10\n",
    "\n",
    "    return call\n",
    "\n",
    "\n",
    "SIZE = 2\n",
    "out = np.zeros((SIZE, SIZE))\n",
    "a = np.arange(SIZE * SIZE).reshape((SIZE, SIZE))\n",
    "problem = CudaProblem(\n",
    "    \"Map 2D\", map_2D_test, [a], out, [SIZE], threadsperblock=Coord(3, 3), spec=map_spec\n",
    ")\n",
    "#problem.show()"
   ]
  },
  {
   "cell_type": "code",
   "execution_count": 11,
   "id": "33924d55",
   "metadata": {
    "ExecuteTime": {
     "end_time": "2022-07-15T21:45:26.567625Z",
     "start_time": "2022-07-15T21:45:26.524501Z"
    },
    "execution": {
     "iopub.execute_input": "2022-07-14T22:48:26.943085Z",
     "iopub.status.busy": "2022-07-14T22:48:26.942662Z",
     "iopub.status.idle": "2022-07-14T22:48:26.974452Z",
     "shell.execute_reply": "2022-07-14T22:48:26.973608Z"
    },
    "lines_to_end_of_cell_marker": 0,
    "lines_to_next_cell": 1
   },
   "outputs": [
    {
     "name": "stdout",
     "output_type": "stream",
     "text": [
      "Passed Tests!\n"
     ]
    }
   ],
   "source": [
    "problem.check() and None"
   ]
  },
  {
   "cell_type": "markdown",
   "id": "e474293d",
   "metadata": {},
   "source": [
    "## Puzzle 5 - Broadcast\n",
    "\n",
    "Implement a kernel that adds `a` and `b` and stores it in `out`.\n",
    "Inputs `a` and `b` are vectors. You have more threads than positions."
   ]
  },
  {
   "cell_type": "code",
   "execution_count": 12,
   "id": "f61f706e",
   "metadata": {
    "ExecuteTime": {
     "end_time": "2022-07-15T21:45:26.575040Z",
     "start_time": "2022-07-15T21:45:26.569648Z"
    },
    "execution": {
     "iopub.execute_input": "2022-07-14T22:48:26.978561Z",
     "iopub.status.busy": "2022-07-14T22:48:26.978130Z",
     "iopub.status.idle": "2022-07-14T22:48:27.058921Z",
     "shell.execute_reply": "2022-07-14T22:48:27.058057Z"
    }
   },
   "outputs": [],
   "source": [
    "def broadcast_test(cuda):\n",
    "    def call(out, a, b, size) -> None:\n",
    "        local_i = cuda.threadIdx.x\n",
    "        local_j = cuda.threadIdx.y\n",
    "        if local_i < size and local_j < size:\n",
    "            out[local_i, local_j] = a[local_i, 0] + b[0, local_j]\n",
    "\n",
    "    return call\n",
    "\n",
    "\n",
    "SIZE = 2\n",
    "out = np.zeros((SIZE, SIZE))\n",
    "a = np.arange(SIZE).reshape(SIZE, 1)\n",
    "b = np.arange(SIZE).reshape(1, SIZE)\n",
    "problem = CudaProblem(\n",
    "    \"Broadcast\",\n",
    "    broadcast_test,\n",
    "    [a, b],\n",
    "    out,\n",
    "    [SIZE],\n",
    "    threadsperblock=Coord(3, 3),\n",
    "    spec=zip_spec,\n",
    ")\n",
    "#problem.show()"
   ]
  },
  {
   "cell_type": "code",
   "execution_count": 13,
   "id": "9a3a295d",
   "metadata": {
    "ExecuteTime": {
     "end_time": "2022-07-15T21:45:26.627367Z",
     "start_time": "2022-07-15T21:45:26.576531Z"
    },
    "execution": {
     "iopub.execute_input": "2022-07-14T22:48:27.062653Z",
     "iopub.status.busy": "2022-07-14T22:48:27.062222Z",
     "iopub.status.idle": "2022-07-14T22:48:27.097882Z",
     "shell.execute_reply": "2022-07-14T22:48:27.097033Z"
    },
    "lines_to_end_of_cell_marker": 0,
    "lines_to_next_cell": 1
   },
   "outputs": [
    {
     "name": "stdout",
     "output_type": "stream",
     "text": [
      "Passed Tests!\n"
     ]
    }
   ],
   "source": [
    "problem.check() and None"
   ]
  },
  {
   "cell_type": "markdown",
   "id": "dc022265",
   "metadata": {},
   "source": [
    "## Puzzle 6 - Blocks\n",
    "\n",
    "Implement a kernel that adds 10 to each position of `a` and stores it in `out`.\n",
    "You have fewer threads per block than the size of `a`."
   ]
  },
  {
   "cell_type": "markdown",
   "id": "67329695",
   "metadata": {},
   "source": [
    "*Tip: A block is a group of threads. The number of threads per block is limited, but we can\n",
    "have many different blocks. Variable `cuda.blockIdx` tells us what block we are in.*"
   ]
  },
  {
   "cell_type": "code",
   "execution_count": 14,
   "id": "503e0770",
   "metadata": {
    "ExecuteTime": {
     "end_time": "2022-07-15T21:45:26.636540Z",
     "start_time": "2022-07-15T21:45:26.631931Z"
    },
    "execution": {
     "iopub.execute_input": "2022-07-14T22:48:27.102045Z",
     "iopub.status.busy": "2022-07-14T22:48:27.101605Z",
     "iopub.status.idle": "2022-07-14T22:48:27.277577Z",
     "shell.execute_reply": "2022-07-14T22:48:27.276621Z"
    }
   },
   "outputs": [],
   "source": [
    "def map_block_test(cuda):\n",
    "    def call(out, a, size) -> None:\n",
    "        i = cuda.blockIdx.x * cuda.blockDim.x + cuda.threadIdx.x\n",
    "        if i < size:\n",
    "            out[i] = a[i] + 10\n",
    "\n",
    "    return call\n",
    "\n",
    "\n",
    "SIZE = 9\n",
    "out = np.zeros((SIZE,))\n",
    "a = np.arange(SIZE)\n",
    "problem = CudaProblem(\n",
    "    \"Blocks\",\n",
    "    map_block_test,\n",
    "    [a],\n",
    "    out,\n",
    "    [SIZE],\n",
    "    threadsperblock=Coord(4, 1),\n",
    "    blockspergrid=Coord(3, 1),\n",
    "    spec=map_spec,\n",
    ")\n",
    "#problem.show()"
   ]
  },
  {
   "cell_type": "code",
   "execution_count": 15,
   "id": "92c04920",
   "metadata": {
    "ExecuteTime": {
     "end_time": "2022-07-15T21:45:26.677235Z",
     "start_time": "2022-07-15T21:45:26.638020Z"
    },
    "execution": {
     "iopub.execute_input": "2022-07-14T22:48:27.281704Z",
     "iopub.status.busy": "2022-07-14T22:48:27.281270Z",
     "iopub.status.idle": "2022-07-14T22:48:27.321500Z",
     "shell.execute_reply": "2022-07-14T22:48:27.320589Z"
    },
    "lines_to_end_of_cell_marker": 0,
    "lines_to_next_cell": 1
   },
   "outputs": [
    {
     "name": "stdout",
     "output_type": "stream",
     "text": [
      "Passed Tests!\n"
     ]
    }
   ],
   "source": [
    "problem.check() and None"
   ]
  },
  {
   "cell_type": "markdown",
   "id": "d705597c",
   "metadata": {},
   "source": [
    "## Puzzle 7 - Blocks 2D\n",
    "\n",
    "Implement the same kernel in 2D.  You have fewer threads per block\n",
    "than the size of `a` in both directions."
   ]
  },
  {
   "cell_type": "code",
   "execution_count": 16,
   "id": "c7ff4d5b",
   "metadata": {
    "ExecuteTime": {
     "end_time": "2022-07-15T21:45:26.684597Z",
     "start_time": "2022-07-15T21:45:26.679239Z"
    },
    "execution": {
     "iopub.execute_input": "2022-07-14T22:48:27.325625Z",
     "iopub.status.busy": "2022-07-14T22:48:27.325153Z",
     "iopub.status.idle": "2022-07-14T22:48:27.909976Z",
     "shell.execute_reply": "2022-07-14T22:48:27.909143Z"
    }
   },
   "outputs": [],
   "source": [
    "def map_block2D_test(cuda):\n",
    "    def call(out, a, size) -> None:\n",
    "        i = cuda.blockIdx.x * cuda.blockDim.x + cuda.threadIdx.x\n",
    "        j = cuda.blockIdx.y * cuda.blockDim.y + cuda.threadIdx.y\n",
    "        if i < size and j < size:\n",
    "            out[i, j] = a[i, j] + 10\n",
    "        # FILL ME IN (roughly 4 lines)\n",
    "\n",
    "    return call\n",
    "\n",
    "\n",
    "SIZE = 5\n",
    "out = np.zeros((SIZE, SIZE))\n",
    "a = np.ones((SIZE, SIZE))\n",
    "\n",
    "problem = CudaProblem(\n",
    "    \"Blocks 2D\",\n",
    "    map_block2D_test,\n",
    "    [a],\n",
    "    out,\n",
    "    [SIZE],\n",
    "    threadsperblock=Coord(3, 3),\n",
    "    blockspergrid=Coord(2, 2),\n",
    "    spec=map_spec,\n",
    ")\n",
    "#problem.show()"
   ]
  },
  {
   "cell_type": "code",
   "execution_count": 17,
   "id": "5cc3fe32",
   "metadata": {
    "ExecuteTime": {
     "end_time": "2022-07-15T21:45:26.735851Z",
     "start_time": "2022-07-15T21:45:26.686110Z"
    },
    "execution": {
     "iopub.execute_input": "2022-07-14T22:48:27.916315Z",
     "iopub.status.busy": "2022-07-14T22:48:27.915825Z",
     "iopub.status.idle": "2022-07-14T22:48:27.956504Z",
     "shell.execute_reply": "2022-07-14T22:48:27.955672Z"
    }
   },
   "outputs": [
    {
     "name": "stdout",
     "output_type": "stream",
     "text": [
      "Passed Tests!\n"
     ]
    }
   ],
   "source": [
    "problem.check() and None"
   ]
  },
  {
   "cell_type": "markdown",
   "id": "90948fb7",
   "metadata": {},
   "source": [
    "## Puzzle 8 - Shared\n",
    "\n",
    "Implement a kernel that adds 10 to each position of `a` and stores it in `out`.\n",
    "You have fewer threads per block than the size of `a`."
   ]
  },
  {
   "cell_type": "markdown",
   "id": "deb0d2d4",
   "metadata": {},
   "source": [
    "**Warning**: Each block can only have a *constant* amount of shared\n",
    " memory that threads in that block can read and write to. This needs\n",
    " to be a literal python constant not a variable. After writing to\n",
    " shared memory you need to call `cuda.syncthreads` to ensure that\n",
    " threads do not cross."
   ]
  },
  {
   "cell_type": "markdown",
   "id": "946f8787",
   "metadata": {},
   "source": [
    "(This example does not really need shared memory or syncthreads, but it is a demo.)"
   ]
  },
  {
   "cell_type": "code",
   "execution_count": 18,
   "id": "2b7752c1",
   "metadata": {
    "ExecuteTime": {
     "end_time": "2022-07-15T21:45:26.743646Z",
     "start_time": "2022-07-15T21:45:26.738074Z"
    },
    "execution": {
     "iopub.execute_input": "2022-07-14T22:48:27.960761Z",
     "iopub.status.busy": "2022-07-14T22:48:27.960284Z",
     "iopub.status.idle": "2022-07-14T22:48:28.166645Z",
     "shell.execute_reply": "2022-07-14T22:48:28.165776Z"
    }
   },
   "outputs": [],
   "source": [
    "TPB = 4\n",
    "def shared_test(cuda):\n",
    "    def call(out, a, size) -> None:\n",
    "        shared = cuda.shared.array(TPB, numba.float32)\n",
    "        i = cuda.blockIdx.x * cuda.blockDim.x + cuda.threadIdx.x\n",
    "        local_i = cuda.threadIdx.x\n",
    "\n",
    "        if i < size:\n",
    "            shared[local_i] = a[i]\n",
    "            cuda.syncthreads()\n",
    "\n",
    "            out[i] = shared[local_i] + 10\n",
    "        \n",
    "\n",
    "    return call\n",
    "\n",
    "\n",
    "SIZE = 8\n",
    "out = np.zeros(SIZE)\n",
    "a = np.ones(SIZE)\n",
    "problem = CudaProblem(\n",
    "    \"Shared\",\n",
    "    shared_test,\n",
    "    [a],\n",
    "    out,\n",
    "    [SIZE],\n",
    "    threadsperblock=Coord(TPB, 1),\n",
    "    blockspergrid=Coord(2, 1),\n",
    "    spec=map_spec,\n",
    ")\n",
    "#problem.show()"
   ]
  },
  {
   "cell_type": "code",
   "execution_count": 19,
   "id": "45364964",
   "metadata": {
    "ExecuteTime": {
     "end_time": "2022-07-15T21:45:26.796539Z",
     "start_time": "2022-07-15T21:45:26.745144Z"
    },
    "execution": {
     "iopub.execute_input": "2022-07-14T22:48:28.170980Z",
     "iopub.status.busy": "2022-07-14T22:48:28.170549Z",
     "iopub.status.idle": "2022-07-14T22:48:28.238143Z",
     "shell.execute_reply": "2022-07-14T22:48:28.237300Z"
    },
    "lines_to_end_of_cell_marker": 0,
    "lines_to_next_cell": 1
   },
   "outputs": [
    {
     "name": "stdout",
     "output_type": "stream",
     "text": [
      "Passed Tests!\n"
     ]
    }
   ],
   "source": [
    "problem.check() and None"
   ]
  },
  {
   "cell_type": "markdown",
   "id": "8f151fa8",
   "metadata": {},
   "source": [
    "## Puzzle 9 - Pooling\n",
    "\n",
    "Implement a kernel that sums together the last 3 position of `a` and stores it in `out`.\n",
    "You have 1 thread per position. You only need 1 global read and 1 global write per thread."
   ]
  },
  {
   "cell_type": "markdown",
   "id": "09e5a1df",
   "metadata": {},
   "source": [
    "*Tip: Remember to be careful about syncing.*"
   ]
  },
  {
   "cell_type": "code",
   "execution_count": 20,
   "id": "33e3e196",
   "metadata": {
    "ExecuteTime": {
     "end_time": "2022-07-15T21:45:26.805342Z",
     "start_time": "2022-07-15T21:45:26.798526Z"
    },
    "execution": {
     "iopub.execute_input": "2022-07-14T22:48:28.242526Z",
     "iopub.status.busy": "2022-07-14T22:48:28.242070Z",
     "iopub.status.idle": "2022-07-14T22:48:28.331258Z",
     "shell.execute_reply": "2022-07-14T22:48:28.330476Z"
    }
   },
   "outputs": [],
   "source": [
    "def pool_spec(a):\n",
    "    out = np.zeros(*a.shape)\n",
    "    for i in range(a.shape[0]):\n",
    "        out[i] = a[max(i - 2, 0) : i + 1].sum()\n",
    "    return out\n",
    "\n",
    "\n",
    "TPB = 8\n",
    "def pool_test(cuda):\n",
    "    def call(out, a, size) -> None:\n",
    "        shared = cuda.shared.array(TPB, numba.float32)\n",
    "        i = cuda.blockIdx.x * cuda.blockDim.x + cuda.threadIdx.x\n",
    "        local_i = cuda.threadIdx.x\n",
    "        shared[local_i] = a[i]\n",
    "        cuda.syncthreads()\n",
    "        if i > 1:\n",
    "            shared[local_i] += shared[local_i - 1] + shared[local_i - 2]\n",
    "        elif i > 0:\n",
    "            shared[local_i] += shared[local_i - 1]\n",
    "        out[i] = shared[local_i]\n",
    "\n",
    "    return call\n",
    "\n",
    "\n",
    "SIZE = 8\n",
    "out = np.zeros(SIZE)\n",
    "a = np.arange(SIZE)\n",
    "problem = CudaProblem(\n",
    "    \"Pooling\",\n",
    "    pool_test,\n",
    "    [a],\n",
    "    out,\n",
    "    [SIZE],\n",
    "    threadsperblock=Coord(TPB, 1),\n",
    "    blockspergrid=Coord(1, 1),\n",
    "    spec=pool_spec,\n",
    ")\n",
    "#problem.show()"
   ]
  },
  {
   "cell_type": "code",
   "execution_count": 21,
   "id": "00ed3691",
   "metadata": {
    "ExecuteTime": {
     "end_time": "2022-07-15T21:45:26.883701Z",
     "start_time": "2022-07-15T21:45:26.806957Z"
    },
    "execution": {
     "iopub.execute_input": "2022-07-14T22:48:28.335122Z",
     "iopub.status.busy": "2022-07-14T22:48:28.334667Z",
     "iopub.status.idle": "2022-07-14T22:48:28.379818Z",
     "shell.execute_reply": "2022-07-14T22:48:28.378915Z"
    },
    "lines_to_end_of_cell_marker": 0,
    "lines_to_next_cell": 1
   },
   "outputs": [
    {
     "name": "stdout",
     "output_type": "stream",
     "text": [
      "Passed Tests!\n"
     ]
    }
   ],
   "source": [
    "problem.check() and None"
   ]
  },
  {
   "cell_type": "markdown",
   "id": "c5d28450",
   "metadata": {},
   "source": [
    "## Puzzle 10 - Dot Product\n",
    "\n",
    "Implement a kernel that computes the dot-product of `a` and `b` and stores it in `out`.\n",
    "You have 1 thread per position. You only need 1 global read and 1 global write per thread."
   ]
  },
  {
   "cell_type": "markdown",
   "id": "d6837648",
   "metadata": {},
   "source": [
    "*Note: For this problem you don't need to worry about number of shared reads. We will\n",
    " handle that challenge later.*"
   ]
  },
  {
   "cell_type": "code",
   "execution_count": 22,
   "id": "4c190a68",
   "metadata": {
    "ExecuteTime": {
     "end_time": "2022-07-15T21:45:26.892355Z",
     "start_time": "2022-07-15T21:45:26.885744Z"
    },
    "execution": {
     "iopub.execute_input": "2022-07-14T22:48:28.384308Z",
     "iopub.status.busy": "2022-07-14T22:48:28.383851Z",
     "iopub.status.idle": "2022-07-14T22:48:28.483383Z",
     "shell.execute_reply": "2022-07-14T22:48:28.482588Z"
    }
   },
   "outputs": [],
   "source": [
    "def dot_spec(a, b):\n",
    "    return a @ b\n",
    "\n",
    "\n",
    "TPB = 8\n",
    "def dot_test(cuda):\n",
    "    def call(out, a, b, size) -> None:\n",
    "        shared = cuda.shared.array(TPB, numba.float32)\n",
    "\n",
    "        i = cuda.blockIdx.x * cuda.blockDim.x + cuda.threadIdx.x\n",
    "        local_i = cuda.threadIdx.x\n",
    "        \n",
    "        shared[local_i] = a[i] * b[i]\n",
    "        j = 1\n",
    "        while j < size:\n",
    "            cuda.syncthreads()\n",
    "            if local_i % (j * 2) == 0:\n",
    "                shared[local_i] += shared[local_i + j]\n",
    "            j *= 2\n",
    "\n",
    "        if i == 0:\n",
    "            out[i] = shared[local_i]\n",
    "\n",
    "    return call\n",
    "\n",
    "\n",
    "SIZE = 8\n",
    "out = np.zeros(1)\n",
    "a = np.arange(SIZE)\n",
    "b = np.arange(SIZE)\n",
    "problem = CudaProblem(\n",
    "    \"Dot\",\n",
    "    dot_test,\n",
    "    [a, b],\n",
    "    out,\n",
    "    [SIZE],\n",
    "    threadsperblock=Coord(SIZE, 1),\n",
    "    blockspergrid=Coord(1, 1),\n",
    "    spec=dot_spec,\n",
    ")\n",
    "#problem.show()"
   ]
  },
  {
   "cell_type": "code",
   "execution_count": 23,
   "id": "02579e37",
   "metadata": {
    "ExecuteTime": {
     "end_time": "2022-07-15T21:45:26.977045Z",
     "start_time": "2022-07-15T21:45:26.893858Z"
    },
    "execution": {
     "iopub.execute_input": "2022-07-14T22:48:28.487555Z",
     "iopub.status.busy": "2022-07-14T22:48:28.487079Z",
     "iopub.status.idle": "2022-07-14T22:48:28.533474Z",
     "shell.execute_reply": "2022-07-14T22:48:28.532641Z"
    }
   },
   "outputs": [
    {
     "name": "stdout",
     "output_type": "stream",
     "text": [
      "Passed Tests!\n"
     ]
    }
   ],
   "source": [
    "problem.check() and None"
   ]
  },
  {
   "cell_type": "markdown",
   "id": "46a4282e",
   "metadata": {
    "lines_to_next_cell": 2
   },
   "source": [
    "## Puzzle 11 - 1D Convolution\n",
    "\n",
    "Implement a kernel that computes a 1D convolution between `a` and `b` and stores it in `out`.\n",
    "You need to handle the general case. You only need 2 global reads and 1 global write per thread."
   ]
  },
  {
   "cell_type": "code",
   "execution_count": 24,
   "id": "60e0f2ee",
   "metadata": {
    "ExecuteTime": {
     "end_time": "2022-07-15T21:45:26.988767Z",
     "start_time": "2022-07-15T21:45:26.979120Z"
    },
    "execution": {
     "iopub.execute_input": "2022-07-14T22:48:28.537634Z",
     "iopub.status.busy": "2022-07-14T22:48:28.537193Z",
     "iopub.status.idle": "2022-07-14T22:48:28.635166Z",
     "shell.execute_reply": "2022-07-14T22:48:28.634284Z"
    }
   },
   "outputs": [],
   "source": [
    "def conv_spec(a, b):\n",
    "    out = np.zeros(*a.shape)\n",
    "    len = b.shape[0]\n",
    "    for i in range(a.shape[0]):\n",
    "        out[i] = sum([a[i + j] * b[j] for j in range(len) if i + j < a.shape[0]])\n",
    "    return out\n",
    "\n",
    "\n",
    "MAX_CONV = 5\n",
    "TPB = 8\n",
    "TPB_MAX_CONV = TPB + MAX_CONV\n",
    "def conv_test(cuda):\n",
    "    def call(out, a, b, a_size, b_size) -> None:\n",
    "        i = cuda.blockIdx.x * cuda.blockDim.x + cuda.threadIdx.x\n",
    "        local_i = cuda.threadIdx.x\n",
    "        input_ = cuda.shared.array(TPB_MAX_CONV, numba.float32)\n",
    "        kernel = cuda.shared.array(TPB, numba.float32)\n",
    "        result = cuda.shared.array(TPB, numba.float32)\n",
    "        if i < a_size:\n",
    "            input_[local_i] = a[i]\n",
    "        if local_i + TPB < TPB_MAX_CONV and i + TPB < a_size:\n",
    "            input_[local_i + TPB] = a[i + TPB]\n",
    "        if local_i < a_size:\n",
    "            result[local_i] = 0.0\n",
    "        if local_i < b_size:\n",
    "            kernel[local_i] = b[local_i]\n",
    "        cuda.syncthreads()\n",
    "        for j in range(b_size):\n",
    "            if i + j < a_size:\n",
    "                result[local_i] += input_[local_i + j] * kernel[j]\n",
    "        if i < a_size:\n",
    "            out[i] = result[local_i]\n",
    "\n",
    "    return call\n",
    "\n",
    "\n",
    "# Test 1\n",
    "\n",
    "SIZE = 6\n",
    "CONV = 3\n",
    "out = np.zeros(SIZE)\n",
    "a = np.arange(SIZE)\n",
    "b = np.arange(CONV)\n",
    "problem = CudaProblem(\n",
    "    \"1D Conv (Simple)\",\n",
    "    conv_test,\n",
    "    [a, b],\n",
    "    out,\n",
    "    [SIZE, CONV],\n",
    "    threadsperblock=Coord(TPB, 1),\n",
    "    blockspergrid=Coord(1, 1),\n",
    "    spec=conv_spec,\n",
    ")\n",
    "#problem.show()"
   ]
  },
  {
   "cell_type": "code",
   "execution_count": 25,
   "id": "4b1db8df",
   "metadata": {
    "ExecuteTime": {
     "end_time": "2022-07-15T21:45:27.126912Z",
     "start_time": "2022-07-15T21:45:26.990395Z"
    },
    "execution": {
     "iopub.execute_input": "2022-07-14T22:48:28.639318Z",
     "iopub.status.busy": "2022-07-14T22:48:28.638859Z",
     "iopub.status.idle": "2022-07-14T22:48:28.679956Z",
     "shell.execute_reply": "2022-07-14T22:48:28.679056Z"
    }
   },
   "outputs": [
    {
     "name": "stdout",
     "output_type": "stream",
     "text": [
      "Passed Tests!\n"
     ]
    }
   ],
   "source": [
    "problem.check() and None"
   ]
  },
  {
   "cell_type": "markdown",
   "id": "dcbc9294",
   "metadata": {},
   "source": [
    "Test 2"
   ]
  },
  {
   "cell_type": "code",
   "execution_count": 26,
   "id": "1f6ff1a1",
   "metadata": {
    "ExecuteTime": {
     "end_time": "2022-07-15T21:45:27.133464Z",
     "start_time": "2022-07-15T21:45:27.128983Z"
    },
    "execution": {
     "iopub.execute_input": "2022-07-14T22:48:28.684223Z",
     "iopub.status.busy": "2022-07-14T22:48:28.683765Z",
     "iopub.status.idle": "2022-07-14T22:48:28.895124Z",
     "shell.execute_reply": "2022-07-14T22:48:28.894329Z"
    }
   },
   "outputs": [],
   "source": [
    "out = np.zeros(15)\n",
    "a = np.arange(15)\n",
    "b = np.arange(4)\n",
    "problem = CudaProblem(\n",
    "    \"1D Conv (Full)\",\n",
    "    conv_test,\n",
    "    [a, b],\n",
    "    out,\n",
    "    [15, 4],\n",
    "    threadsperblock=Coord(TPB, 1),\n",
    "    blockspergrid=Coord(2, 1),\n",
    "    spec=conv_spec,\n",
    ")\n",
    "#problem.show()"
   ]
  },
  {
   "cell_type": "code",
   "execution_count": 27,
   "id": "43582970",
   "metadata": {
    "ExecuteTime": {
     "end_time": "2022-07-15T21:45:27.269131Z",
     "start_time": "2022-07-15T21:45:27.134981Z"
    },
    "execution": {
     "iopub.execute_input": "2022-07-14T22:48:28.900048Z",
     "iopub.status.busy": "2022-07-14T22:48:28.899569Z",
     "iopub.status.idle": "2022-07-14T22:48:28.939695Z",
     "shell.execute_reply": "2022-07-14T22:48:28.938893Z"
    }
   },
   "outputs": [
    {
     "name": "stdout",
     "output_type": "stream",
     "text": [
      "Passed Tests!\n"
     ]
    }
   ],
   "source": [
    "problem.check() and None"
   ]
  },
  {
   "cell_type": "markdown",
   "id": "890acccd",
   "metadata": {},
   "source": [
    "## Puzzle 12 - Prefix Sum\n",
    "\n",
    "Implement a kernel that computes a sum over `a` and stores it in `out`.\n",
    "If the size of `a` is greater than the block size, only store the sum of\n",
    "each block."
   ]
  },
  {
   "cell_type": "markdown",
   "id": "7a116b4b",
   "metadata": {},
   "source": [
    "We will do this using the [parallel prefix sum](https://en.wikipedia.org/wiki/Prefix_sum) algorithm in shared memory.\n",
    "That is, each step of the algorithm should sum together half the remaining numbers.\n",
    "Follow this diagram:"
   ]
  },
  {
   "cell_type": "markdown",
   "id": "fbde61ec",
   "metadata": {},
   "source": [
    "![](https://user-images.githubusercontent.com/35882/178757889-1c269623-93af-4a2e-a7e9-22cd55a42e38.png)"
   ]
  },
  {
   "cell_type": "code",
   "execution_count": 78,
   "id": "9cc3b7c7",
   "metadata": {
    "ExecuteTime": {
     "end_time": "2022-07-15T21:51:17.157961Z",
     "start_time": "2022-07-15T21:51:17.147247Z"
    },
    "execution": {
     "iopub.execute_input": "2022-07-14T22:48:28.944240Z",
     "iopub.status.busy": "2022-07-14T22:48:28.943800Z",
     "iopub.status.idle": "2022-07-14T22:48:29.020135Z",
     "shell.execute_reply": "2022-07-14T22:48:29.019324Z"
    }
   },
   "outputs": [],
   "source": [
    "TPB = 8\n",
    "def sum_spec(a):\n",
    "    out = np.zeros((a.shape[0] + TPB - 1) // TPB)\n",
    "    for j, i in enumerate(range(0, a.shape[-1], TPB)):\n",
    "        out[j] = a[i : i + TPB].sum()\n",
    "    return out\n",
    "\n",
    "\n",
    "def sum_test(cuda):\n",
    "    def call(out, a, size: int) -> None:\n",
    "        cache = cuda.shared.array(TPB, numba.float32)\n",
    "        i = cuda.blockIdx.x * cuda.blockDim.x + cuda.threadIdx.x\n",
    "        local_i = cuda.threadIdx.x\n",
    "        \n",
    "        if i < size:\n",
    "            cache[local_i] = a[i]\n",
    "        \n",
    "        j = 1\n",
    "        while j < TPB:\n",
    "            cuda.syncthreads()\n",
    "            if local_i % (j * 2) == 0:\n",
    "                cache[local_i] += cache[local_i + j]\n",
    "            j *= 2\n",
    "            \n",
    "        if local_i == 0:\n",
    "            out[cuda.blockIdx.x] = cache[local_i]\n",
    "\n",
    "    return call\n",
    "\n",
    "\n",
    "# Test 1\n",
    "\n",
    "SIZE = 8\n",
    "out = np.zeros(1)\n",
    "inp = np.arange(SIZE)\n",
    "problem = CudaProblem(\n",
    "    \"Sum (Simple)\",\n",
    "    sum_test,\n",
    "    [inp],\n",
    "    out,\n",
    "    [SIZE],\n",
    "    Coord(1, 1),\n",
    "    Coord(TPB, 1),\n",
    "    spec=sum_spec,\n",
    ")\n",
    "#problem.show()"
   ]
  },
  {
   "cell_type": "code",
   "execution_count": 79,
   "id": "c613943d",
   "metadata": {
    "ExecuteTime": {
     "end_time": "2022-07-15T21:51:17.462830Z",
     "start_time": "2022-07-15T21:51:17.307514Z"
    },
    "execution": {
     "iopub.execute_input": "2022-07-14T22:48:29.024152Z",
     "iopub.status.busy": "2022-07-14T22:48:29.023702Z",
     "iopub.status.idle": "2022-07-14T22:48:29.072303Z",
     "shell.execute_reply": "2022-07-14T22:48:29.071463Z"
    }
   },
   "outputs": [
    {
     "name": "stdout",
     "output_type": "stream",
     "text": [
      "Passed Tests!\n"
     ]
    }
   ],
   "source": [
    "problem.check() and None"
   ]
  },
  {
   "cell_type": "markdown",
   "id": "65bc207e",
   "metadata": {},
   "source": [
    "Test 2"
   ]
  },
  {
   "cell_type": "code",
   "execution_count": 80,
   "id": "337ac220",
   "metadata": {
    "ExecuteTime": {
     "end_time": "2022-07-15T21:51:19.567899Z",
     "start_time": "2022-07-15T21:51:19.562862Z"
    },
    "execution": {
     "iopub.execute_input": "2022-07-14T22:48:29.076667Z",
     "iopub.status.busy": "2022-07-14T22:48:29.076209Z",
     "iopub.status.idle": "2022-07-14T22:48:29.216448Z",
     "shell.execute_reply": "2022-07-14T22:48:29.215544Z"
    }
   },
   "outputs": [],
   "source": [
    "SIZE = 15\n",
    "out = np.zeros(2)\n",
    "inp = np.arange(SIZE)\n",
    "problem = CudaProblem(\n",
    "    \"Sum (Full)\",\n",
    "    sum_test,\n",
    "    [inp],\n",
    "    out,\n",
    "    [SIZE],\n",
    "    Coord(2, 1),\n",
    "    Coord(TPB, 1),\n",
    "    spec=sum_spec,\n",
    ")\n",
    "#problem.show()"
   ]
  },
  {
   "cell_type": "code",
   "execution_count": 81,
   "id": "0c4a2452",
   "metadata": {
    "ExecuteTime": {
     "end_time": "2022-07-15T21:51:20.235889Z",
     "start_time": "2022-07-15T21:51:20.083401Z"
    },
    "execution": {
     "iopub.execute_input": "2022-07-14T22:48:29.220535Z",
     "iopub.status.busy": "2022-07-14T22:48:29.220032Z",
     "iopub.status.idle": "2022-07-14T22:48:29.266692Z",
     "shell.execute_reply": "2022-07-14T22:48:29.265867Z"
    }
   },
   "outputs": [
    {
     "name": "stdout",
     "output_type": "stream",
     "text": [
      "Passed Tests!\n"
     ]
    }
   ],
   "source": [
    "problem.check() and None"
   ]
  },
  {
   "cell_type": "markdown",
   "id": "ce576720",
   "metadata": {},
   "source": [
    "## Puzzle 13 - Axis Sum\n",
    "\n",
    "Implement a kernel that computes a sum over each row of `a` and stores it in `out`."
   ]
  },
  {
   "cell_type": "code",
   "execution_count": 82,
   "id": "0d44961a",
   "metadata": {
    "ExecuteTime": {
     "end_time": "2022-07-15T21:51:20.747800Z",
     "start_time": "2022-07-15T21:51:20.739954Z"
    },
    "execution": {
     "iopub.execute_input": "2022-07-14T22:48:29.271240Z",
     "iopub.status.busy": "2022-07-14T22:48:29.270546Z",
     "iopub.status.idle": "2022-07-14T22:48:29.579042Z",
     "shell.execute_reply": "2022-07-14T22:48:29.578193Z"
    }
   },
   "outputs": [],
   "source": [
    "TPB = 8\n",
    "def sum_spec(a):\n",
    "    out = np.zeros((a.shape[0], (a.shape[1] + TPB - 1) // TPB))\n",
    "    for j, i in enumerate(range(0, a.shape[-1], TPB)):\n",
    "        out[..., j] = a[..., i : i + TPB].sum(-1)\n",
    "    return out\n",
    "\n",
    "\n",
    "def axis_sum_test(cuda):\n",
    "    def call(out, a, size: int) -> None:\n",
    "        cache = cuda.shared.array(TPB, numba.float32)\n",
    "        i = cuda.blockIdx.x * cuda.blockDim.x + cuda.threadIdx.x\n",
    "        local_i = cuda.threadIdx.x\n",
    "        batch = cuda.blockIdx.y\n",
    "\n",
    "        if local_i < size:\n",
    "            cache[local_i] = a[batch, local_i]\n",
    "        \n",
    "        j = 1\n",
    "        while j < TPB:\n",
    "            cuda.syncthreads()\n",
    "            if local_i % (j * 2) == 0 and local_i + j < size:\n",
    "                cache[local_i] += cache[local_i + j]\n",
    "            j *= 2\n",
    "        \n",
    "        if local_i == 0:\n",
    "            out[batch, local_i] = cache[local_i]\n",
    "\n",
    "    return call\n",
    "\n",
    "\n",
    "BATCH = 4\n",
    "SIZE = 6\n",
    "out = np.zeros((BATCH, 1))\n",
    "inp = np.arange(BATCH * SIZE).reshape((BATCH, SIZE))\n",
    "problem = CudaProblem(\n",
    "    \"Axis Sum\",\n",
    "    axis_sum_test,\n",
    "    [inp],\n",
    "    out,\n",
    "    [SIZE],\n",
    "    Coord(1, BATCH),\n",
    "    Coord(TPB, 1),\n",
    "    spec=sum_spec,\n",
    ")\n",
    "#problem.show()"
   ]
  },
  {
   "cell_type": "code",
   "execution_count": 83,
   "id": "301326d0",
   "metadata": {
    "ExecuteTime": {
     "end_time": "2022-07-15T21:51:21.098965Z",
     "start_time": "2022-07-15T21:51:20.858180Z"
    },
    "execution": {
     "iopub.execute_input": "2022-07-14T22:48:29.584630Z",
     "iopub.status.busy": "2022-07-14T22:48:29.584164Z",
     "iopub.status.idle": "2022-07-14T22:48:29.632229Z",
     "shell.execute_reply": "2022-07-14T22:48:29.631313Z"
    },
    "lines_to_end_of_cell_marker": 0,
    "lines_to_next_cell": 1
   },
   "outputs": [
    {
     "name": "stdout",
     "output_type": "stream",
     "text": [
      "Passed Tests!\n"
     ]
    }
   ],
   "source": [
    "problem.check() and None"
   ]
  },
  {
   "cell_type": "markdown",
   "id": "a1adedff",
   "metadata": {},
   "source": [
    "## Puzzle 14 - Matrix Multiply!\n",
    "\n",
    "Implement a kernel that multiplies square matrices `a` and `b` and\n",
    "stores it in `out`.\n",
    "\n",
    "*Tip: The most efficient algorithm here will copy a block into\n",
    " shared memory before computing each of the individual row-column\n",
    " dot products. This is easy to do if the matrix fits in shared\n",
    " memory.  Do that case first. Then update your code to compute\n",
    " a partial dot-product and then iteratively move the part that you\n",
    " copied into shared memory.* You should be able to do the hard case\n",
    " in 6 global reads."
   ]
  },
  {
   "cell_type": "code",
   "execution_count": 84,
   "id": "a6afaa12",
   "metadata": {
    "ExecuteTime": {
     "end_time": "2022-07-15T21:51:23.329572Z",
     "start_time": "2022-07-15T21:51:23.316239Z"
    },
    "execution": {
     "iopub.execute_input": "2022-07-14T22:48:29.636602Z",
     "iopub.status.busy": "2022-07-14T22:48:29.636084Z",
     "iopub.status.idle": "2022-07-14T22:48:29.730075Z",
     "shell.execute_reply": "2022-07-14T22:48:29.729266Z"
    }
   },
   "outputs": [],
   "source": [
    "def matmul_spec(a, b):\n",
    "    return a @ b\n",
    "\n",
    "\n",
    "TPB = 3\n",
    "def mm_oneblock_test(cuda):\n",
    "    def call(out, a, b, size: int) -> None:\n",
    "        a_shared = cuda.shared.array((TPB, TPB), numba.float32)\n",
    "        b_shared = cuda.shared.array((TPB, TPB), numba.float32)\n",
    "\n",
    "        i = cuda.blockIdx.x * cuda.blockDim.x + cuda.threadIdx.x\n",
    "        j = cuda.blockIdx.y * cuda.blockDim.y + cuda.threadIdx.y\n",
    "        local_i = cuda.threadIdx.x\n",
    "        local_j = cuda.threadIdx.y\n",
    "        \n",
    "        result = 0.0\n",
    "        q = 0\n",
    "        while q < size:\n",
    "            a_shared[local_i, local_j] = 0.0\n",
    "            b_shared[local_i, local_j] = 0.0\n",
    "            if i < size and local_j + q < size:\n",
    "                a_shared[local_i, local_j] = a[i, local_j + q]\n",
    "            if local_i + q < size and j < size:\n",
    "                b_shared[local_i, local_j] = b[local_i + q, j]\n",
    "            cuda.syncthreads()\n",
    "\n",
    "            for local_k in range(TPB):\n",
    "                result += a_shared[local_i, local_k] * b_shared[local_k, local_j]\n",
    "            \n",
    "            q += TPB\n",
    "                    \n",
    "        if i < size and j < size:\n",
    "            out[i, j] = result\n",
    "        \n",
    "    return call\n",
    "\n",
    "# Test 1\n",
    "\n",
    "SIZE = 2\n",
    "out = np.zeros((SIZE, SIZE))\n",
    "inp1 = np.arange(SIZE * SIZE).reshape((SIZE, SIZE))\n",
    "inp2 = np.arange(SIZE * SIZE).reshape((SIZE, SIZE)).T\n",
    "\n",
    "problem = CudaProblem(\n",
    "    \"Matmul (Simple)\",\n",
    "    mm_oneblock_test,\n",
    "    [inp1, inp2],\n",
    "    out,\n",
    "    [SIZE],\n",
    "    Coord(2, 2),\n",
    "    Coord(TPB, TPB),\n",
    "    spec=matmul_spec,\n",
    ")\n",
    "#problem.show(sparse=True)"
   ]
  },
  {
   "cell_type": "code",
   "execution_count": 85,
   "id": "e2b78e90",
   "metadata": {
    "ExecuteTime": {
     "end_time": "2022-07-15T21:51:24.359520Z",
     "start_time": "2022-07-15T21:51:24.115431Z"
    },
    "execution": {
     "iopub.execute_input": "2022-07-14T22:48:29.734934Z",
     "iopub.status.busy": "2022-07-14T22:48:29.734493Z",
     "iopub.status.idle": "2022-07-14T22:48:29.799956Z",
     "shell.execute_reply": "2022-07-14T22:48:29.799117Z"
    }
   },
   "outputs": [
    {
     "name": "stdout",
     "output_type": "stream",
     "text": [
      "Passed Tests!\n"
     ]
    }
   ],
   "source": [
    "problem.check() and None"
   ]
  },
  {
   "cell_type": "markdown",
   "id": "ba6557c5",
   "metadata": {},
   "source": [
    "Test 2"
   ]
  },
  {
   "cell_type": "code",
   "execution_count": 86,
   "id": "ddbacf2c",
   "metadata": {
    "ExecuteTime": {
     "end_time": "2022-07-15T21:51:25.521255Z",
     "start_time": "2022-07-15T21:51:25.515829Z"
    },
    "execution": {
     "iopub.execute_input": "2022-07-14T22:48:29.804213Z",
     "iopub.status.busy": "2022-07-14T22:48:29.803754Z",
     "iopub.status.idle": "2022-07-14T22:48:33.205328Z",
     "shell.execute_reply": "2022-07-14T22:48:33.204433Z"
    }
   },
   "outputs": [],
   "source": [
    "SIZE = 8\n",
    "out = np.zeros((SIZE, SIZE))\n",
    "inp1 = np.arange(SIZE * SIZE).reshape((SIZE, SIZE))\n",
    "inp2 = np.arange(SIZE * SIZE).reshape((SIZE, SIZE)).T\n",
    "\n",
    "problem = CudaProblem(\n",
    "    \"Matmul (Full)\",\n",
    "    mm_oneblock_test,\n",
    "    [inp1, inp2],\n",
    "    out,\n",
    "    [SIZE],\n",
    "    Coord(3, 3),\n",
    "    Coord(TPB, TPB),\n",
    "    spec=matmul_spec,\n",
    ")\n",
    "#problem.show(sparse=True)"
   ]
  },
  {
   "cell_type": "code",
   "execution_count": 87,
   "id": "4c9b4c82",
   "metadata": {
    "ExecuteTime": {
     "end_time": "2022-07-15T21:51:26.262523Z",
     "start_time": "2022-07-15T21:51:26.027235Z"
    },
    "execution": {
     "iopub.execute_input": "2022-07-14T22:48:33.230188Z",
     "iopub.status.busy": "2022-07-14T22:48:33.229711Z",
     "iopub.status.idle": "2022-07-14T22:48:33.294975Z",
     "shell.execute_reply": "2022-07-14T22:48:33.294165Z"
    }
   },
   "outputs": [
    {
     "name": "stdout",
     "output_type": "stream",
     "text": [
      "Passed Tests!\n"
     ]
    }
   ],
   "source": [
    "problem.check() and None"
   ]
  },
  {
   "cell_type": "code",
   "execution_count": null,
   "id": "c93c9357",
   "metadata": {},
   "outputs": [],
   "source": []
  }
 ],
 "metadata": {
  "jupytext": {
   "cell_metadata_filter": "-all"
  },
  "kernelspec": {
   "display_name": "warble-lab",
   "language": "python",
   "name": "warble-lab"
  },
  "language_info": {
   "codemirror_mode": {
    "name": "ipython",
    "version": 3
   },
   "file_extension": ".py",
   "mimetype": "text/x-python",
   "name": "python",
   "nbconvert_exporter": "python",
   "pygments_lexer": "ipython3",
   "version": "3.9.13"
  }
 },
 "nbformat": 4,
 "nbformat_minor": 5
}
